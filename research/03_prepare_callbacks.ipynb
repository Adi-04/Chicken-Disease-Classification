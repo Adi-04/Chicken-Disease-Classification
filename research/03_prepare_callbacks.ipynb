{
 "cells": [
  {
   "cell_type": "code",
   "execution_count": 21,
   "metadata": {},
   "outputs": [
    {
     "data": {
      "text/plain": [
       "'c:\\\\Users\\\\bhand\\\\OneDrive\\\\Desktop\\\\Deep Learning\\\\Chicken_disease'"
      ]
     },
     "execution_count": 21,
     "metadata": {},
     "output_type": "execute_result"
    }
   ],
   "source": [
    "pwd"
   ]
  },
  {
   "cell_type": "code",
   "execution_count": 22,
   "metadata": {},
   "outputs": [
    {
     "name": "stdout",
     "output_type": "stream",
     "text": [
      " Volume in drive C is OS\n",
      " Volume Serial Number is E641-77AD\n",
      "\n",
      " Directory of c:\\Users\\bhand\\OneDrive\\Desktop\\Deep Learning\\Chicken_disease\n",
      "\n",
      "11-11-2023  20:40    <DIR>          .\n",
      "30-10-2023  22:20    <DIR>          ..\n",
      "11-11-2023  18:28    <DIR>          Chicken-Disease-Classification-Tutorial\n",
      "09-11-2023  00:04    <DIR>          logs\n",
      "               0 File(s)              0 bytes\n",
      "               4 Dir(s)  12,021,948,416 bytes free\n"
     ]
    }
   ],
   "source": [
    "ls"
   ]
  },
  {
   "cell_type": "code",
   "execution_count": 23,
   "metadata": {},
   "outputs": [
    {
     "name": "stdout",
     "output_type": "stream",
     "text": [
      "c:\\Users\\bhand\\OneDrive\\Desktop\\Deep Learning\\Chicken_disease\\Chicken-Disease-Classification-Tutorial\n"
     ]
    }
   ],
   "source": [
    "cd Chicken-Disease-Classification-Tutorial"
   ]
  },
  {
   "cell_type": "code",
   "execution_count": 31,
   "metadata": {},
   "outputs": [],
   "source": [
    "import os"
   ]
  },
  {
   "cell_type": "code",
   "execution_count": 32,
   "metadata": {},
   "outputs": [],
   "source": [
    "from pathlib import Path\n",
    "from dataclasses import dataclass\n",
    "\n",
    "@dataclass(frozen=True)\n",
    "class PrepareCallbackConfig:\n",
    "    root_dir: Path\n",
    "    tensorboard_root_log_dir: Path\n",
    "    checkpoint_model_filepath: Path"
   ]
  },
  {
   "cell_type": "code",
   "execution_count": 33,
   "metadata": {},
   "outputs": [],
   "source": [
    "from cnnClassifier.constants import *\n",
    "from cnnClassifier.utils.common import read_yaml, create_directories"
   ]
  },
  {
   "cell_type": "code",
   "execution_count": 34,
   "metadata": {},
   "outputs": [],
   "source": [
    "class ConfigurationManager:\n",
    "    def __init__(\n",
    "        self,\n",
    "        config_filepath = CONFIG_FILE_PATH,\n",
    "        params_filepath = PARAMS_FILE_PATH):\n",
    "        self.config = read_yaml(config_filepath)\n",
    "        self.params = read_yaml(params_filepath)\n",
    "        create_directories([self.config.artifacts_root])\n",
    "        \n",
    "    \n",
    "    def get_prepare_callbacks_config(self) -> PrepareCallbackConfig:\n",
    "        config = self.config.prepare_callbacks\n",
    "        model_ckpt_dir = os.path.dirname(config.checkpoint_model_filepath)\n",
    "        create_directories([\n",
    "            Path(model_ckpt_dir),\n",
    "            Path(config.tensorboard_root_log_dir)\n",
    "        ])\n",
    "        \n",
    "        prepare_callback_config = PrepareCallbackConfig(\n",
    "            root_dir = Path(config.root_dir),\n",
    "            tensorboard_root_log_dir = Path(config.tensorboard_root_log_dir),\n",
    "            checkpoint_model_filepath = Path(config.checkpoint_model_filepath)\n",
    "        )\n",
    "        \n",
    "        return prepare_callback_config"
   ]
  },
  {
   "cell_type": "code",
   "execution_count": 35,
   "metadata": {},
   "outputs": [],
   "source": [
    "import os\n",
    "import urllib.request as request\n",
    "from zipfile import ZipFile\n",
    "import tensorflow as tf\n",
    "import time"
   ]
  },
  {
   "cell_type": "code",
   "execution_count": 36,
   "metadata": {},
   "outputs": [],
   "source": [
    "class PrepareCallback:\n",
    "    def __init__(self, config:PrepareCallbackConfig):\n",
    "        self.config = config\n",
    "    \n",
    "    \n",
    "    @property\n",
    "    def _create_tb_callbacks(self):\n",
    "        timestamp = time.strftime(\"%Y-%m-%d-%H:%M:%S\")\n",
    "        tb_running_log_dir = os.path.join(\n",
    "            self.config.tensorboard_root_log_dir,\n",
    "            f\"tb_logs_at_{timestamp}\"\n",
    "        )\n",
    "        return tf.keras.callbacks.TensorBoard(log_dir=tb_running_log_dir)\n",
    "    \n",
    "    @property\n",
    "    def _create_ckpt_callbacks(self):\n",
    "        return tf.keras.callbacks.ModelCheckpoint(\n",
    "            filepath=self.config.checkpoint_model_filepath,\n",
    "            save_best_only=True\n",
    "        )\n",
    "        \n",
    "    def get_tb_ckpt_callbacks(self):\n",
    "        return [\n",
    "            self._create_tb_callbacks,\n",
    "            self._create_ckpt_callbacks\n",
    "        ]"
   ]
  },
  {
   "cell_type": "code",
   "execution_count": 37,
   "metadata": {},
   "outputs": [
    {
     "name": "stdout",
     "output_type": "stream",
     "text": [
      "[2023-11-11 20:46:02,437: INFO: common: yaml file: C:\\Users\\bhand\\OneDrive\\Desktop\\Deep Learning\\Chicken_disease\\Chicken-Disease-Classification-Tutorial\\config\\config.yaml loaded successfully]\n",
      "[2023-11-11 20:46:02,440: INFO: common: yaml file: C:\\Users\\bhand\\OneDrive\\Desktop\\Deep Learning\\Chicken_disease\\Chicken-Disease-Classification-Tutorial\\params.yaml loaded successfully]\n",
      "[2023-11-11 20:46:02,441: INFO: common: Create directory at: artifacts]\n",
      "[2023-11-11 20:46:02,444: INFO: common: Create directory at: artifacts\\prepare_callbacks\\checkpoint_dir]\n",
      "[2023-11-11 20:46:02,445: INFO: common: Create directory at: artifacts\\prepare_callbacks\\tensorboard_log_dir]\n"
     ]
    }
   ],
   "source": [
    "try:\n",
    "    config = ConfigurationManager()\n",
    "    prepare_callbacks_config = config.get_prepare_callbacks_config()\n",
    "    prepare_callbacks = PrepareCallback(config=prepare_callbacks_config)\n",
    "    callback_list = prepare_callbacks.get_tb_ckpt_callbacks()\n",
    "except Exception as e:\n",
    "    raise e"
   ]
  },
  {
   "cell_type": "code",
   "execution_count": 38,
   "metadata": {},
   "outputs": [
    {
     "data": {
      "text/plain": [
       "'tb_logs_at_2023-11-11-21:02:14'"
      ]
     },
     "execution_count": 38,
     "metadata": {},
     "output_type": "execute_result"
    }
   ],
   "source": [
    "import time\n",
    "timestamp = time.strftime(\"%Y-%m-%d-%H:%M:%S\")\n",
    "f\"tb_logs_at_{timestamp}\""
   ]
  },
  {
   "cell_type": "code",
   "execution_count": null,
   "metadata": {},
   "outputs": [],
   "source": []
  }
 ],
 "metadata": {
  "kernelspec": {
   "display_name": "base",
   "language": "python",
   "name": "python3"
  },
  "language_info": {
   "codemirror_mode": {
    "name": "ipython",
    "version": 3
   },
   "file_extension": ".py",
   "mimetype": "text/x-python",
   "name": "python",
   "nbconvert_exporter": "python",
   "pygments_lexer": "ipython3",
   "version": "3.9.12"
  }
 },
 "nbformat": 4,
 "nbformat_minor": 2
}
